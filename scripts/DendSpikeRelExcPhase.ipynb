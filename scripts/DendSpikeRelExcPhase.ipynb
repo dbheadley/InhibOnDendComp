{
 "cells": [
  {
   "cell_type": "markdown",
   "metadata": {},
   "source": [
    "# Calculate relationship between AP and dendritic spikes as a function of relative phase between excitation and inhibition\n",
    "\n",
    "The simulations had either: \n",
    "1. Sinusoidal inhibition at 64 Hz to the soma, or 16 Hz to the distal dendrites.\n",
    "2. Sinusoidal excitation to either apical or basal dendrites with different relative phases to the inhibitory rhythm.\n",
    "\n",
    "Here we calculate the spike-triggered average between dendritic spikes and action potentials. These are stratified by:\n",
    "1. electrotonic distance of the dendritic segment from the soma\n",
    "2. whether the dendritic branch was apical or basal\n",
    "3. type of dendritic spike\n",
    "\n",
    "The output of this script are a collection of NPY files, one for each simulation condition, dendrite type, and dendritic spike type, containing a numpy array with 3 dimensions:\n",
    "1. the dendritic segment electrotonic quantile\n",
    "2. time from the action potential\n",
    "3. relative phase between excitation and inhibition"
   ]
  },
  {
   "cell_type": "code",
   "execution_count": 1,
   "metadata": {},
   "outputs": [],
   "source": [
    "import os\n",
    "import sys\n",
    "import re\n",
    "sys.path.append('..') # have to do this for relative imports in jupyter\n",
    "import numpy as np\n",
    "import pandas as pd\n",
    "import matplotlib.pyplot as plt\n",
    "from src.cc_serpt import cc_serpt\n",
    "from src.ser_ss import ser_ss\n",
    "from src.load_dendevt_csv import load_dendevt_csv\n",
    "from src.load_spike_h5 import load_spike_h5\n",
    "from src.permute_pt import permute_pt\n",
    "from src.seg_dendevt import seg_dendevt\n",
    "from src.ser_seg_dendevt import ser_seg_dendevt\n",
    "from src.sta_ap_dendevt import sta_ap_dendevt\n",
    "from src.bin_serser import bin_serser"
   ]
  },
  {
   "cell_type": "markdown",
   "metadata": {},
   "source": [
    "# Analysis parameters\n"
   ]
  },
  {
   "cell_type": "code",
   "execution_count": 2,
   "metadata": {},
   "outputs": [],
   "source": [
    "samps_per_ms = 10\n",
    "sim_win = [0, 2000000]\n",
    "sta_win = [-100, 100]\n",
    "step = 2 * samps_per_ms"
   ]
  },
  {
   "cell_type": "markdown",
   "metadata": {},
   "source": [
    "#### List files to be processed"
   ]
  },
  {
   "cell_type": "code",
   "execution_count": 3,
   "metadata": {},
   "outputs": [
    {
     "name": "stdout",
     "output_type": "stream",
     "text": [
      "For Y:\\DendCompOsc\\16Hzapical_exc_mod\\ output_16Hz_dend_inh_30deg_exc_10p is missing files\n",
      "For Y:\\DendCompOsc\\64Hzapical_exc_mod\\ output_64Hz_soma_inh_0deg_exc_10p is missing files\n",
      "For Y:\\DendCompOsc\\64Hzapical_exc_mod\\ output_64Hz_soma_inh_30deg_exc_10p is missing files\n",
      "For Y:\\DendCompOsc\\64Hzapical_exc_mod\\ output_64Hz_soma_inh_60deg_exc_10p is missing files\n",
      "For Y:\\DendCompOsc\\64Hzapical_exc_mod\\ output_64Hz_soma_inh_90deg_exc_10p is missing files\n",
      "For Y:\\DendCompOsc\\64Hzapical_exc_mod\\ output_64Hz_soma_inh_120deg_exc_10p is missing files\n",
      "For Y:\\DendCompOsc\\64Hzapical_exc_mod\\ output_64Hz_soma_inh_150deg_exc_10p is missing files\n",
      "For Y:\\DendCompOsc\\64Hzapical_exc_mod\\ output_64Hz_soma_inh_180deg_exc_10p is missing files\n",
      "For Y:\\DendCompOsc\\64Hzapical_exc_mod\\ output_64Hz_soma_inh_210deg_exc_10p is missing files\n",
      "For Y:\\DendCompOsc\\64Hzapical_exc_mod\\ output_64Hz_soma_inh_240deg_exc_10p is missing files\n",
      "For Y:\\DendCompOsc\\64Hzapical_exc_mod\\ output_64Hz_soma_inh_270deg_exc_10p is missing files\n",
      "For Y:\\DendCompOsc\\64Hzapical_exc_mod\\ output_64Hz_soma_inh_300deg_exc_10p is missing files\n",
      "For Y:\\DendCompOsc\\64Hzapical_exc_mod\\ output_64Hz_soma_inh_330deg_exc_10p is missing files\n"
     ]
    },
    {
     "name": "stderr",
     "output_type": "stream",
     "text": [
      "C:\\Users\\dbh60\\AppData\\Local\\Temp/ipykernel_13492/445169018.py:33: FutureWarning: In a future version of pandas all arguments of DataFrame.dropna will be keyword-only\n",
      "  sims_df = sims_df.dropna(0)\n"
     ]
    },
    {
     "name": "stdout",
     "output_type": "stream",
     "text": [
      "For Y:\\DendCompOsc\\64Hzbasal_exc_mod\\ output_64Hz_soma_inh_0deg_exc_10p is missing files\n",
      "For Y:\\DendCompOsc\\64Hzbasal_exc_mod\\ output_64Hz_soma_inh_60deg_exc_10p is missing files\n",
      "For Y:\\DendCompOsc\\64Hzbasal_exc_mod\\ output_64Hz_soma_inh_90deg_exc_10p is missing files\n",
      "For Y:\\DendCompOsc\\64Hzbasal_exc_mod\\ output_64Hz_soma_inh_120deg_exc_10p is missing files\n",
      "For Y:\\DendCompOsc\\64Hzbasal_exc_mod\\ output_64Hz_soma_inh_150deg_exc_10p is missing files\n",
      "For Y:\\DendCompOsc\\64Hzbasal_exc_mod\\ output_64Hz_soma_inh_180deg_exc_10p is missing files\n",
      "For Y:\\DendCompOsc\\64Hzbasal_exc_mod\\ output_64Hz_soma_inh_210deg_exc_10p is missing files\n",
      "For Y:\\DendCompOsc\\64Hzbasal_exc_mod\\ output_64Hz_soma_inh_240deg_exc_10p is missing files\n",
      "For Y:\\DendCompOsc\\64Hzbasal_exc_mod\\ output_64Hz_soma_inh_270deg_exc_10p is missing files\n",
      "For Y:\\DendCompOsc\\64Hzbasal_exc_mod\\ output_64Hz_soma_inh_300deg_exc_10p is missing files\n",
      "For Y:\\DendCompOsc\\64Hzbasal_exc_mod\\ output_64Hz_soma_inh_330deg_exc_10p is missing files\n"
     ]
    }
   ],
   "source": [
    "# define method for getting a dataframe of all simulation files\n",
    "def get_sim_fnames(root_dir):\n",
    "\n",
    "    # list the names of all the simulations that were run\n",
    "    sims_list = []\n",
    "    with os.scandir(root_dir) as flist:\n",
    "        for f in flist:\n",
    "            if f.is_dir():\n",
    "                sims_list.append(f.name)\n",
    "\n",
    "    # create a data frame of simulation names\n",
    "    sims_df = pd.DataFrame({'RootDir': root_dir, 'SimName': sims_list})\n",
    "\n",
    "    # get the relative phase for each simulation and order files by that\n",
    "    sims_df['RelPhase'] = [int(re.search('([0-9]+)deg',x.SimName).group(1)) for _,x in sims_df.iterrows()]\n",
    "    sims_df = sims_df.sort_values('RelPhase')\n",
    "\n",
    "    # get the perent modulation for each simulation \n",
    "    sims_df['ModDepth'] = [int(re.search('([0-9]+)p$',x.SimName).group(1)) for _,x in sims_df.iterrows()]\n",
    "\n",
    "    # and populate with the corresponding action potential and dendritic spike files, ommit name if file does not exist\n",
    "    sims_df['CaFiles'] = [x if os.path.isfile(x) else pd.NA for x in sims_df['RootDir'] + sims_df['SimName'] + '_ca.csv']\n",
    "    sims_df['NaFiles'] = [x if os.path.isfile(x) else pd.NA for x in sims_df['RootDir'] + sims_df['SimName'] + '_na.csv']\n",
    "    sims_df['NMDAFiles'] = [x if os.path.isfile(x) else pd.NA for x in sims_df['RootDir'] + sims_df['SimName'] + '_nmda.csv']\n",
    "    sims_df['APFiles'] = [x if os.path.isfile(x) else pd.NA for x in sims_df['RootDir'] + sims_df['SimName'] + '\\\\spikes.h5']\n",
    "\n",
    "    # print a message indicating any simulations with missing files\n",
    "    for _, row in sims_df.iterrows():\n",
    "        if np.any(row.isna()):\n",
    "            print('For ' + root_dir + ' ' + row['SimName'] + ' is missing files')\n",
    "\n",
    "    # remove incomplete entries\n",
    "    sims_df = sims_df.dropna(0)\n",
    "    return sims_df\n",
    "\n",
    "# locate simulation files\n",
    "a_ex_16_df = get_sim_fnames(\"Y:\\\\DendCompOsc\\\\16Hzapical_exc_mod\\\\\")\n",
    "b_ex_16_df = get_sim_fnames(\"Y:\\\\DendCompOsc\\\\16Hzbasal_exc_mod\\\\\")\n",
    "a_ex_64_df = get_sim_fnames(\"Y:\\\\DendCompOsc\\\\64Hzapical_exc_mod\\\\\")\n",
    "b_ex_64_df = get_sim_fnames(\"Y:\\\\DendCompOsc\\\\64Hzbasal_exc_mod\\\\\")\n",
    "\n",
    "# keep only 30p modulation sims from 64 hz\n",
    "a_ex_64_df = a_ex_64_df.loc[a_ex_64_df['ModDepth']==30,:]\n",
    "b_ex_64_df = b_ex_64_df.loc[b_ex_64_df['ModDepth']==30,:]"
   ]
  },
  {
   "cell_type": "markdown",
   "metadata": {},
   "source": [
    "#### Generate STAs for dendritic spikes"
   ]
  },
  {
   "cell_type": "code",
   "execution_count": 4,
   "metadata": {},
   "outputs": [],
   "source": [
    "# calculate STAs\n",
    "def dend_spk_sta(dend_fname, spk_fname):\n",
    "    \n",
    "    dend_t = load_dendevt_csv(dend_fname)\n",
    "    spk_t = load_spike_h5(spk_fname)\n",
    "    \n",
    "    dend_seg = seg_dendevt(dend_t)\n",
    "    dend_seg = ser_seg_dendevt(dend_seg, step_len=step, win_lim=sim_win)\n",
    "    dend_seg = sta_ap_dendevt(dend_seg, np.round(spk_t / step), bin=1, win=sta_win)\n",
    "\n",
    "    dend_seg = dend_seg.groupby(('Type')).aggregate({'sta': np.vstack})\n",
    "    return dend_seg\n",
    "\n",
    "# process a simulation\n",
    "def proc_sim(sim_df):\n",
    "    ca_sta = []\n",
    "    nmda_sta = []\n",
    "    na_sta = []\n",
    "    for _, row in sim_df.iterrows():\n",
    "        print(row['SimName'])\n",
    "        ca_sta.append(dend_spk_sta(row['CaFiles'], row['APFiles']))\n",
    "        nmda_sta.append(dend_spk_sta(row['NMDAFiles'], row['APFiles']))\n",
    "        na_sta.append(dend_spk_sta(row['NaFiles'], row['APFiles']))\n",
    "    \n",
    "    a_ca_sta = np.stack([x.loc['apic','sta'] for x in ca_sta],axis=2)\n",
    "\n",
    "    a_nmda_sta = np.stack([x.loc['apic','sta'] for x in nmda_sta],axis=2)\n",
    "    b_nmda_sta = np.stack([x.loc['dend','sta'] for x in nmda_sta],axis=2)\n",
    "\n",
    "    a_na_sta = np.stack([x.loc['apic','sta'] for x in na_sta],axis=2)\n",
    "    b_na_sta = np.stack([x.loc['dend','sta'] for x in na_sta],axis=2)\n",
    "\n",
    "    return {'ca_a': a_ca_sta, 'nmda_a': a_nmda_sta, 'nmda_b': b_nmda_sta,\n",
    "            'na_a': a_na_sta, 'na_b': b_na_sta}"
   ]
  },
  {
   "cell_type": "code",
   "execution_count": 5,
   "metadata": {},
   "outputs": [
    {
     "name": "stdout",
     "output_type": "stream",
     "text": [
      "output_16Hz_dend_inh_0deg_exc_10p\n"
     ]
    },
    {
     "name": "stderr",
     "output_type": "stream",
     "text": [
      "C:\\Users\\dbh60\\AppData\\Local\\Temp/ipykernel_13492/517817117.py:4: DtypeWarning: Columns (11) have mixed types.Specify dtype option on import or set low_memory=False.\n",
      "  dend_t = load_dendevt_csv(dend_fname)\n"
     ]
    },
    {
     "name": "stdout",
     "output_type": "stream",
     "text": [
      "output_16Hz_dend_inh_30deg_exc_10p\n",
      "output_16Hz_dend_inh_60deg_exc_10p\n",
      "output_16Hz_dend_inh_90deg_exc_10p\n",
      "output_16Hz_dend_inh_120deg_exc_10p\n",
      "output_16Hz_dend_inh_150deg_exc_10p\n",
      "output_16Hz_dend_inh_180deg_exc_10p\n",
      "output_16Hz_dend_inh_210deg_exc_10p\n",
      "output_16Hz_dend_inh_240deg_exc_10p\n",
      "output_16Hz_dend_inh_270deg_exc_10p\n",
      "output_16Hz_dend_inh_300deg_exc_10p\n",
      "output_16Hz_dend_inh_330deg_exc_10p\n"
     ]
    },
    {
     "data": {
      "text/plain": [
       "'\\n# process apical excitation, 64 hz inhibition\\na_ex_64_sta = proc_sim(a_ex_64_df)\\n\\n# process basal excitation, 64 hz inhibition\\nb_ex_64_sta = proc_sim(b_ex_64_df)\\n\\n# process apical excitation, 16 hz inhibition\\na_ex_16_sta = proc_sim(a_ex_16_df)\\n'"
      ]
     },
     "execution_count": 5,
     "metadata": {},
     "output_type": "execute_result"
    }
   ],
   "source": [
    "# process basal excitation, 16 hz inhibition\n",
    "b_ex_16_sta = proc_sim(b_ex_16_df)\n",
    "\n",
    "\"\"\"\n",
    "# process apical excitation, 64 hz inhibition\n",
    "a_ex_64_sta = proc_sim(a_ex_64_df)\n",
    "\n",
    "# process basal excitation, 64 hz inhibition\n",
    "b_ex_64_sta = proc_sim(b_ex_64_df)\n",
    "\n",
    "# process apical excitation, 16 hz inhibition\n",
    "a_ex_16_sta = proc_sim(a_ex_16_df)\n",
    "\"\"\""
   ]
  },
  {
   "cell_type": "code",
   "execution_count": 119,
   "metadata": {},
   "outputs": [
    {
     "data": {
      "image/png": "[encoded data removed]",
      "text/plain": [
       "<Figure size 432x288 with 2 Axes>"
      ]
     },
     "metadata": {
      "needs_background": "light"
     },
     "output_type": "display_data"
    }
   ],
   "source": [
    "#test = np.squeeze([:,102,:])\n",
    "data_arr = b_ex_16_sta['ca_a']\n",
    "data_plt = np.vstack([data_arr[6,:,x] for x in range(12)])\n",
    "fig, ax = plt.subplots()\n",
    "ax_im = ax.imshow(data_plt)\n",
    "ax_im.set_clim([-500,500])\n",
    "plt.colorbar(ax_im)\n",
    "ax.set_aspect('auto')\n",
    "plt.show()"
   ]
  },
  {
   "cell_type": "code",
   "execution_count": 72,
   "metadata": {},
   "outputs": [
    {
     "data": {
      "text/plain": [
       "(9, 200, 12)"
      ]
     },
     "execution_count": 72,
     "metadata": {},
     "output_type": "execute_result"
    }
   ],
   "source": [
    "b_ex_16_sta['ca_a'].shape"
   ]
  },
  {
   "cell_type": "code",
   "execution_count": 71,
   "metadata": {},
   "outputs": [
    {
     "data": {
      "text/plain": [
       "array([[ 0,  1,  2,  3],\n",
       "       [ 4,  5,  6,  7],\n",
       "       [ 8,  9, 10, 11],\n",
       "       [12, 13, 14, 15],\n",
       "       [16, 17, 18, 19],\n",
       "       [20, 21, 22, 23],\n",
       "       [24, 25, 26, 27],\n",
       "       [28, 29, 30, 31],\n",
       "       [32, 33, 34, 35],\n",
       "       [36, 37, 38, 39],\n",
       "       [40, 41, 42, 43],\n",
       "       [44, 45, 46, 47],\n",
       "       [48, 49, 50, 51],\n",
       "       [52, 53, 54, 55],\n",
       "       [56, 57, 58, 59]])"
      ]
     },
     "execution_count": 71,
     "metadata": {},
     "output_type": "execute_result"
    }
   ],
   "source": [
    "test = np.arange(20).reshape((5,4,1))+np.array([[[0,20,40]]])\n",
    "test2 = np.vstack([test[:,:,x] for x in range(3)])\n",
    "test2\n",
    "#test = np.stack((np.ones((5,4)),np.ones((5,4))*2,np.ones((5,4))*3),axis=2)\n",
    "#print(test[:,:,:])"
   ]
  },
  {
   "cell_type": "code",
   "execution_count": 14,
   "metadata": {},
   "outputs": [
    {
     "data": {
      "image/png": "[encoded data removed]",
      "text/plain": [
       "<Figure size 432x288 with 2 Axes>"
      ]
     },
     "metadata": {
      "needs_background": "light"
     },
     "output_type": "display_data"
    }
   ],
   "source": [
    "# NMDA spike test\n",
    "nmda_seg = seg_dendevt(nmda_t)\n",
    "nmda_seg = ser_seg_dendevt(nmda_seg, step_len=step, win_lim=[0, 2000000])\n",
    "nmda_seg = sta_ap_dendevt(nmda_seg, np.round(spk_t / step), bin=1, win=sta_win)\n",
    "\n",
    "# plot results\n",
    "sta_arr = np.vstack(nmda_seg['sta'])\n",
    "fig, ax = plt.subplots()\n",
    "plt.imshow(sta_arr, interpolation='none')\n",
    "plt.colorbar()\n",
    "ax.set_aspect('auto')\n",
    "#plt.clim(-100,400)\n",
    "plt.show()"
   ]
  },
  {
   "cell_type": "code",
   "execution_count": 18,
   "metadata": {},
   "outputs": [
    {
     "data": {
      "image/png": "[encoded data removed]",
      "text/plain": [
       "<Figure size 432x288 with 2 Axes>"
      ]
     },
     "metadata": {
      "needs_background": "light"
     },
     "output_type": "display_data"
    }
   ],
   "source": [
    "# Na spike test\n",
    "na_seg = seg_dendevt(na_t)\n",
    "na_seg = ser_seg_dendevt(na_seg, step_len=step, win_lim=[0, 2000000])\n",
    "na_seg = sta_ap_dendevt(na_seg, np.round(spk_t / step), bin=1, win=sta_win)\n",
    "\n",
    "# plot results\n",
    "sta_arr = np.vstack(na_seg['sta'])\n",
    "fig, ax = plt.subplots()\n",
    "plt.imshow(sta_arr, interpolation='none')\n",
    "plt.colorbar()\n",
    "ax.set_aspect('auto')\n",
    "#plt.clim(-100,400)\n",
    "plt.show()"
   ]
  },
  {
   "cell_type": "code",
   "execution_count": 23,
   "metadata": {},
   "outputs": [
    {
     "data": {
      "image/png": "[encoded data removed]",
      "text/plain": [
       "<Figure size 432x288 with 1 Axes>"
      ]
     },
     "metadata": {
      "needs_background": "light"
     },
     "output_type": "display_data"
    }
   ],
   "source": [
    "u,s,v = np.linalg.svd(sta_arr)\n",
    "\n",
    "fig, ax = plt.subplots()\n",
    "ax.plot(sta_arr[:,98:100])\n",
    "plt.show()\n",
    "\n",
    "#fig, ax = plt.subplots()\n",
    "#ax.plot(np.sum(u[:,0:2]*s[0:2].reshape((1,-1)),1))\n",
    "#plt.show()"
   ]
  },
  {
   "cell_type": "code",
   "execution_count": null,
   "metadata": {},
   "outputs": [],
   "source": []
  }
 ],
 "metadata": {
  "kernelspec": {
   "display_name": "Python 3.9.7 ('ds')",
   "language": "python",
   "name": "python3"
  },
  "language_info": {
   "codemirror_mode": {
    "name": "ipython",
    "version": 3
   },
   "file_extension": ".py",
   "mimetype": "text/x-python",
   "name": "python",
   "nbconvert_exporter": "python",
   "pygments_lexer": "ipython3",
   "version": "3.9.7"
  },
  "orig_nbformat": 4,
  "vscode": {
   "interpreter": {
    "hash": "cf393112a5b64bff377f776f23047cb7cf218d474e1a5b18968353bd6d40df00"
   }
  }
 },
 "nbformat": 4,
 "nbformat_minor": 2
}
