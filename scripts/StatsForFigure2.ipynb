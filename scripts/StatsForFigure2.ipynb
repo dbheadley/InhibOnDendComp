{
 "cells": [
  {
   "cell_type": "markdown",
   "metadata": {},
   "source": [
    "# Stats for Figure 2"
   ]
  },
  {
   "cell_type": "code",
   "execution_count": 96,
   "metadata": {},
   "outputs": [],
   "source": [
    "import pandas as pd\n",
    "import numpy as np\n",
    "import sys\n",
    "sys.path.append('..') # needed for relative file path import with jupyter\n",
    "from src.cc import ccptpt\n",
    "from numpy.random import randint\n",
    "import h5py\n",
    "import matplotlib.pyplot as plt"
   ]
  },
  {
   "cell_type": "markdown",
   "metadata": {},
   "source": [
    "### Load data"
   ]
  },
  {
   "cell_type": "code",
   "execution_count": 97,
   "metadata": {},
   "outputs": [],
   "source": [
    "spikes = h5py.File('../data/spikes.h5','r')\n",
    "spk_t = np.array(spikes['spikes']['biophysical']['timestamps'])\n",
    "\n",
    "nmda_evts = pd.read_csv('../data/DendEventTimes/nmda_spk_times.csv')\n",
    "na_evts = pd.read_csv('../data/DendEventTimes/na_spk_times.csv')"
   ]
  },
  {
   "cell_type": "markdown",
   "metadata": {},
   "source": [
    "### Group dendritic spike events by electrotonic distance percentile"
   ]
  },
  {
   "cell_type": "code",
   "execution_count": 98,
   "metadata": {},
   "outputs": [],
   "source": [
    "# create dataframe of node ID and electrotonic percentile\n",
    "\n",
    "# first combine all dendritic spike dataframes no no node ID is left out\n",
    "node_elec = pd.concat([nmda_evts[['segmentID', 'Elec_distance']], \n",
    "                       na_evts[['segmentID', 'Elec_distance']]],axis=0)\n",
    "node_elec = node_elec.drop_duplicates('segmentID')\n",
    "\n",
    "# calculate percentile rank and bin into 10th percentile steps\n",
    "node_elec['Elec_dist_prc'] = round(node_elec.Elec_distance.rank(pct=True),1)\n",
    "\n",
    "# group dendritic events by electrotonic percentile\n",
    "nmda_evts = nmda_evts.merge(node_elec[['segmentID', 'Elec_dist_prc']],how='inner',on='segmentID')\n",
    "na_evts = na_evts.merge(node_elec[['segmentID', 'Elec_dist_prc']],how='inner',on='segmentID')\n",
    "\n",
    "nmda_evts = nmda_evts.groupby('Elec_dist_prc')['nmda_lower_bound_ms'].apply(list)\n",
    "na_evts = na_evts.groupby('Elec_dist_prc')['na_lower_bound_ms'].apply(list)\n"
   ]
  },
  {
   "cell_type": "code",
   "execution_count": 100,
   "metadata": {},
   "outputs": [
    {
     "ename": "TypeError",
     "evalue": "'numpy.ndarray' object is not callable",
     "output_type": "error",
     "traceback": [
      "\u001b[0;31m---------------------------------------------------------------------------\u001b[0m",
      "\u001b[0;31mTypeError\u001b[0m                                 Traceback (most recent call last)",
      "\u001b[0;32m/var/folders/qz/bv9xctkn7n7c6jl3pc_7dl9h0000gn/T/ipykernel_1071/2048542709.py\u001b[0m in \u001b[0;36m<module>\u001b[0;34m\u001b[0m\n\u001b[1;32m      1\u001b[0m \u001b[0mref_pts\u001b[0m \u001b[0;34m=\u001b[0m \u001b[0mnp\u001b[0m\u001b[0;34m.\u001b[0m\u001b[0msort\u001b[0m\u001b[0;34m(\u001b[0m\u001b[0mrandint\u001b[0m\u001b[0;34m(\u001b[0m\u001b[0;36m0\u001b[0m\u001b[0;34m,\u001b[0m\u001b[0;36m1000\u001b[0m\u001b[0;34m,\u001b[0m\u001b[0;36m100\u001b[0m\u001b[0;34m)\u001b[0m\u001b[0;34m)\u001b[0m\u001b[0;34m\u001b[0m\u001b[0;34m\u001b[0m\u001b[0m\n\u001b[1;32m      2\u001b[0m \u001b[0moth_pts\u001b[0m \u001b[0;34m=\u001b[0m \u001b[0mnp\u001b[0m\u001b[0;34m.\u001b[0m\u001b[0msort\u001b[0m\u001b[0;34m(\u001b[0m\u001b[0mrandint\u001b[0m\u001b[0;34m(\u001b[0m\u001b[0;36m0\u001b[0m\u001b[0;34m,\u001b[0m\u001b[0;36m1000\u001b[0m\u001b[0;34m,\u001b[0m\u001b[0;36m100\u001b[0m\u001b[0;34m)\u001b[0m\u001b[0;34m)\u001b[0m\u001b[0;34m\u001b[0m\u001b[0;34m\u001b[0m\u001b[0m\n\u001b[0;32m----> 3\u001b[0;31m \u001b[0mcc\u001b[0m\u001b[0;34m,\u001b[0m \u001b[0medges\u001b[0m \u001b[0;34m=\u001b[0m \u001b[0mccptpt\u001b[0m\u001b[0;34m(\u001b[0m\u001b[0moth_pts\u001b[0m\u001b[0;34m,\u001b[0m\u001b[0mref_pts\u001b[0m\u001b[0;34m,\u001b[0m\u001b[0;36m1\u001b[0m\u001b[0;34m,\u001b[0m\u001b[0;34m[\u001b[0m\u001b[0;34m-\u001b[0m\u001b[0;36m10\u001b[0m\u001b[0;34m,\u001b[0m \u001b[0;36m10\u001b[0m\u001b[0;34m]\u001b[0m\u001b[0;34m)\u001b[0m\u001b[0;34m\u001b[0m\u001b[0;34m\u001b[0m\u001b[0m\n\u001b[0m",
      "\u001b[0;32m~/PythonCode/DendCompOsc/scripts/../src/cc.py\u001b[0m in \u001b[0;36mccptpt\u001b[0;34m(oth, ref, bin, win)\u001b[0m\n\u001b[1;32m     52\u001b[0m         \u001b[0;31m# find index of first point in oth that is after bottom edge of CC\u001b[0m\u001b[0;34m\u001b[0m\u001b[0;34m\u001b[0m\u001b[0m\n\u001b[1;32m     53\u001b[0m         \u001b[0;31m# window for current reference point\u001b[0m\u001b[0;34m\u001b[0m\u001b[0;34m\u001b[0m\u001b[0m\n\u001b[0;32m---> 54\u001b[0;31m         \u001b[0;32mwhile\u001b[0m \u001b[0;34m(\u001b[0m\u001b[0;34m(\u001b[0m\u001b[0mb_ind\u001b[0m \u001b[0;34m<=\u001b[0m \u001b[0ml_oth\u001b[0m\u001b[0;34m)\u001b[0m\u001b[0;34m)\u001b[0m \u001b[0;32mand\u001b[0m \u001b[0;34m(\u001b[0m\u001b[0moth\u001b[0m\u001b[0;34m[\u001b[0m\u001b[0mb_ind\u001b[0m\u001b[0;34m]\u001b[0m \u001b[0;34m<=\u001b[0m \u001b[0;34m(\u001b[0m\u001b[0mref\u001b[0m\u001b[0;34m[\u001b[0m\u001b[0mr_ind\u001b[0m\u001b[0;34m]\u001b[0m \u001b[0;34m+\u001b[0m \u001b[0mb_edge\u001b[0m\u001b[0;34m)\u001b[0m\u001b[0;34m)\u001b[0m\u001b[0;34m:\u001b[0m\u001b[0;34m\u001b[0m\u001b[0;34m\u001b[0m\u001b[0m\n\u001b[0m\u001b[1;32m     55\u001b[0m             \u001b[0mb_ind\u001b[0m \u001b[0;34m+=\u001b[0m \u001b[0;36m1\u001b[0m\u001b[0;34m\u001b[0m\u001b[0;34m\u001b[0m\u001b[0m\n\u001b[1;32m     56\u001b[0m \u001b[0;34m\u001b[0m\u001b[0m\n",
      "\u001b[0;31mTypeError\u001b[0m: 'numpy.ndarray' object is not callable"
     ]
    }
   ],
   "source": []
  }
 ],
 "metadata": {
  "kernelspec": {
   "display_name": "Python 3.9.7 ('base')",
   "language": "python",
   "name": "python3"
  },
  "language_info": {
   "codemirror_mode": {
    "name": "ipython",
    "version": 3
   },
   "file_extension": ".py",
   "mimetype": "text/x-python",
   "name": "python",
   "nbconvert_exporter": "python",
   "pygments_lexer": "ipython3",
   "version": "3.9.7"
  },
  "orig_nbformat": 4,
  "vscode": {
   "interpreter": {
    "hash": "0a9186c0f8abefcfc2ef00a836546988abf01f629b4c742e0440d03042138943"
   }
  }
 },
 "nbformat": 4,
 "nbformat_minor": 2
}
