{
 "cells": [
  {
   "attachments": {},
   "cell_type": "markdown",
   "metadata": {},
   "source": [
    "# Quick script to incorporate apical nexus electrotonic attenuation into dendritic spike files"
   ]
  },
  {
   "cell_type": "code",
   "execution_count": 1,
   "metadata": {},
   "outputs": [],
   "source": [
    "import pandas as pd\n",
    "import numpy as np"
   ]
  },
  {
   "attachments": {},
   "cell_type": "markdown",
   "metadata": {},
   "source": [
    "### List the files you want to process"
   ]
  },
  {
   "cell_type": "code",
   "execution_count": 2,
   "metadata": {},
   "outputs": [],
   "source": [
    "# apical nexus attenuation file\n",
    "nex_fpath = 'Z:\\\\DendOscSub\\\\Segments.csv'\n",
    "\n",
    "# dend spike files\n",
    "ds_fpaths = ['Z:\\DendOscSub\\output_allpoisson\\\\output_allpoisson_ca.csv', \n",
    "                     'Z:\\DendOscSub\\output_allpoisson\\\\output_allpoisson_nmda.csv',\n",
    "                     'Z:\\DendOscSub\\output_allpoisson\\\\output_allpoisson_na.csv']"
   ]
  },
  {
   "attachments": {},
   "cell_type": "markdown",
   "metadata": {},
   "source": [
    "### Create a method to match the nexus attenuation to the dendritic spike segments"
   ]
  },
  {
   "cell_type": "code",
   "execution_count": 3,
   "metadata": {},
   "outputs": [],
   "source": [
    "def join_nexus_atten(nex_fpath, ds_fpath):\n",
    "    \"\"\"Join nexus attenuation to dendritic spike events.\n",
    "    \n",
    "    Parameters\n",
    "    ----------\n",
    "    nex_fpath : string\n",
    "        path to nexus attenuation file\n",
    "    ds_fpath : string\n",
    "        path to dendritic spike events file\n",
    "    \n",
    "    Returns\n",
    "    ----------\n",
    "    new_ds_df : dataframe\n",
    "        dendritic spike events with nexus attenuation added\n",
    "        \n",
    "    \"\"\"\n",
    "    # read in nexus attenuation file\n",
    "    ds_df = pd.read_csv(ds_fpath)\n",
    "\n",
    "    # read in nexus attenuation file\n",
    "    nex_df = pd.read_csv(nex_fpath)\n",
    "\n",
    "    \n",
    "    # match the 'Elec_distance_nexus' column to the corresponding 'X' and 'Sec ID' columns\n",
    "    new_ds_df = ds_df.merge(nex_df.loc[:,('X', 'Sec ID', 'Elec_distance_nexus')], \n",
    "                            on=['X', 'Sec ID'], how='left')\n",
    "    \n",
    "    # calculate rank of nexus attenuation within each 'Type' group\n",
    "    new_ds_df['Elec_distance_nexusQ'] = new_ds_df.groupby('Type')['Elec_distance_nexus'].rank(pct=True).map(lambda x: int(x*10))\n",
    "\n",
    "    # save to new dendritic spike events file with _nex.csv suffix\n",
    "    new_ds_fpath = ds_fpath[:-4] + '_nex.csv'\n",
    "    new_ds_df.to_csv(new_ds_fpath, index=False)\n",
    "    \n",
    "    return new_ds_df"
   ]
  },
  {
   "attachments": {},
   "cell_type": "markdown",
   "metadata": {},
   "source": [
    "### Process files"
   ]
  },
  {
   "cell_type": "code",
   "execution_count": 5,
   "metadata": {},
   "outputs": [
    {
     "name": "stderr",
     "output_type": "stream",
     "text": [
      "C:\\Users\\dbh60\\AppData\\Local\\Temp\\ipykernel_20296\\4180865035.py:18: DtypeWarning: Columns (11) have mixed types. Specify dtype option on import or set low_memory=False.\n",
      "  ds_df = pd.read_csv(ds_fpath)\n",
      "C:\\Users\\dbh60\\AppData\\Local\\Temp\\ipykernel_20296\\4180865035.py:18: DtypeWarning: Columns (11) have mixed types. Specify dtype option on import or set low_memory=False.\n",
      "  ds_df = pd.read_csv(ds_fpath)\n",
      "C:\\Users\\dbh60\\AppData\\Local\\Temp\\ipykernel_20296\\4180865035.py:18: DtypeWarning: Columns (11) have mixed types. Specify dtype option on import or set low_memory=False.\n",
      "  ds_df = pd.read_csv(ds_fpath)\n"
     ]
    }
   ],
   "source": [
    "new_ds_list = [join_nexus_atten(nex_fpath, curr_ds_fpath) for curr_ds_fpath in ds_fpaths]"
   ]
  }
 ],
 "metadata": {
  "kernelspec": {
   "display_name": "dend_comp",
   "language": "python",
   "name": "python3"
  },
  "language_info": {
   "codemirror_mode": {
    "name": "ipython",
    "version": 3
   },
   "file_extension": ".py",
   "mimetype": "text/x-python",
   "name": "python",
   "nbconvert_exporter": "python",
   "pygments_lexer": "ipython3",
   "version": "3.9.16"
  },
  "orig_nbformat": 4
 },
 "nbformat": 4,
 "nbformat_minor": 2
}
