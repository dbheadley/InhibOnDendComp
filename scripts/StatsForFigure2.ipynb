{
 "cells": [
  {
   "cell_type": "markdown",
   "metadata": {},
   "source": [
    "# Stats for Figure 2"
   ]
  },
  {
   "cell_type": "code",
   "execution_count": 44,
   "metadata": {},
   "outputs": [
    {
     "ename": "ImportError",
     "evalue": "cannot import name 'sim_step_num' from 'src.expparams' (/Users/drewbheadley/PythonCode/DendCompOsc/scripts/../src/expparams.py)",
     "output_type": "error",
     "traceback": [
      "\u001b[0;31m---------------------------------------------------------------------------\u001b[0m",
      "\u001b[0;31mImportError\u001b[0m                               Traceback (most recent call last)",
      "\u001b[0;32m/var/folders/qz/bv9xctkn7n7c6jl3pc_7dl9h0000gn/T/ipykernel_44042/3821218461.py\u001b[0m in \u001b[0;36m<module>\u001b[0;34m\u001b[0m\n\u001b[1;32m      5\u001b[0m \u001b[0msys\u001b[0m\u001b[0;34m.\u001b[0m\u001b[0mpath\u001b[0m\u001b[0;34m.\u001b[0m\u001b[0mappend\u001b[0m\u001b[0;34m(\u001b[0m\u001b[0;34m'..'\u001b[0m\u001b[0;34m)\u001b[0m \u001b[0;31m# needed for relative file path import with jupyter\u001b[0m\u001b[0;34m\u001b[0m\u001b[0;34m\u001b[0m\u001b[0m\n\u001b[1;32m      6\u001b[0m \u001b[0;32mfrom\u001b[0m \u001b[0msrc\u001b[0m\u001b[0;34m.\u001b[0m\u001b[0mcc\u001b[0m \u001b[0;32mimport\u001b[0m \u001b[0mccptpt\u001b[0m\u001b[0;34m\u001b[0m\u001b[0;34m\u001b[0m\u001b[0m\n\u001b[0;32m----> 7\u001b[0;31m \u001b[0;32mfrom\u001b[0m \u001b[0msrc\u001b[0m\u001b[0;34m.\u001b[0m\u001b[0mexpparams\u001b[0m \u001b[0;32mimport\u001b[0m \u001b[0msim_dt\u001b[0m\u001b[0;34m,\u001b[0m \u001b[0msim_dur\u001b[0m\u001b[0;34m,\u001b[0m \u001b[0msim_step_num\u001b[0m\u001b[0;34m\u001b[0m\u001b[0;34m\u001b[0m\u001b[0m\n\u001b[0m\u001b[1;32m      8\u001b[0m \u001b[0;32mfrom\u001b[0m \u001b[0mnumpy\u001b[0m\u001b[0;34m.\u001b[0m\u001b[0mrandom\u001b[0m \u001b[0;32mimport\u001b[0m \u001b[0mrandint\u001b[0m\u001b[0;34m\u001b[0m\u001b[0;34m\u001b[0m\u001b[0m\n\u001b[1;32m      9\u001b[0m \u001b[0;32mimport\u001b[0m \u001b[0mh5py\u001b[0m\u001b[0;34m\u001b[0m\u001b[0;34m\u001b[0m\u001b[0m\n",
      "\u001b[0;31mImportError\u001b[0m: cannot import name 'sim_step_num' from 'src.expparams' (/Users/drewbheadley/PythonCode/DendCompOsc/scripts/../src/expparams.py)"
     ]
    }
   ],
   "source": [
    "# imports\n",
    "import pandas as pd\n",
    "import numpy as np\n",
    "import sys\n",
    "sys.path.append('..') # needed for relative file path import with jupyter\n",
    "from src.cc import ccptpt\n",
    "from src.expparams import sim_dt\n",
    "from src.expparams import sim_dur\n",
    "from src.expparams import sim_step_num\n",
    "from numpy.random import randint\n",
    "import h5py\n",
    "import matplotlib.pyplot as plt"
   ]
  },
  {
   "cell_type": "code",
   "execution_count": 37,
   "metadata": {},
   "outputs": [
    {
     "ename": "NameError",
     "evalue": "name 'sim_dt' is not defined",
     "output_type": "error",
     "traceback": [
      "\u001b[0;31m---------------------------------------------------------------------------\u001b[0m",
      "\u001b[0;31mNameError\u001b[0m                                 Traceback (most recent call last)",
      "\u001b[0;32m/var/folders/qz/bv9xctkn7n7c6jl3pc_7dl9h0000gn/T/ipykernel_44042/653287704.py\u001b[0m in \u001b[0;36m<module>\u001b[0;34m\u001b[0m\n\u001b[1;32m      1\u001b[0m \u001b[0;31m# Parameters for this notebook\u001b[0m\u001b[0;34m\u001b[0m\u001b[0;34m\u001b[0m\u001b[0m\n\u001b[1;32m      2\u001b[0m \u001b[0mnmda_bin_dur\u001b[0m \u001b[0;34m=\u001b[0m \u001b[0;36m0.005\u001b[0m \u001b[0;31m# nmda event binning size for cc in seconds\u001b[0m\u001b[0;34m\u001b[0m\u001b[0;34m\u001b[0m\u001b[0m\n\u001b[0;32m----> 3\u001b[0;31m \u001b[0mnmda_bin_samps\u001b[0m \u001b[0;34m=\u001b[0m \u001b[0mnmda_bin_dur\u001b[0m\u001b[0;34m/\u001b[0m\u001b[0msim_dt\u001b[0m \u001b[0;31m# convert to sample number\u001b[0m\u001b[0;34m\u001b[0m\u001b[0;34m\u001b[0m\u001b[0m\n\u001b[0m",
      "\u001b[0;31mNameError\u001b[0m: name 'sim_dt' is not defined"
     ]
    }
   ],
   "source": [
    "# Parameters for this notebook\n",
    "nmda_bin_dur = 0.005 # nmda event binning size for cc in seconds\n",
    "nmda_bin_samps = nmda_bin_dur/sim_dt # convert to sample number"
   ]
  },
  {
   "cell_type": "markdown",
   "metadata": {},
   "source": [
    "### Load data"
   ]
  },
  {
   "cell_type": "code",
   "execution_count": 2,
   "metadata": {},
   "outputs": [],
   "source": [
    "spikes = h5py.File('../data/spikes.h5','r')\n",
    "spk_t = np.array(spikes['spikes']['biophysical']['timestamps'])\n",
    "\n",
    "nmda_evts = pd.read_csv('../data/DendEventTimes/nmda_spk_times.csv')\n",
    "na_evts = pd.read_csv('../data/DendEventTimes/na_spk_times.csv')"
   ]
  },
  {
   "cell_type": "markdown",
   "metadata": {},
   "source": [
    "### Group dendritic spike events by electrotonic distance percentile"
   ]
  },
  {
   "cell_type": "code",
   "execution_count": 3,
   "metadata": {},
   "outputs": [],
   "source": [
    "# create dataframe of node ID and electrotonic percentile\n",
    "\n",
    "# first combine all dendritic spike dataframes no no node ID is left out\n",
    "node_elec = pd.concat([nmda_evts[['segmentID', 'Type', 'Elec_distance']], \n",
    "                       na_evts[['segmentID', 'Type', 'Elec_distance']]],axis=0)\n",
    "node_elec = node_elec.drop_duplicates('segmentID')\n",
    "\n",
    "# calculate percentile rank with dendritic class and bin into 10th percentile steps\n",
    "node_elec['Elec_dist_prc'] = round(node_elec.groupby('Type')['Elec_distance'].rank(pct=True),1)\n",
    "\n",
    "\n",
    "# group dendritic events by electrotonic percentile\n",
    "nmda_evts = nmda_evts.merge(node_elec[['segmentID', 'Elec_dist_prc']],how='inner',on='segmentID')\n",
    "na_evts = na_evts.merge(node_elec[['segmentID', 'Elec_dist_prc']],how='inner',on='segmentID')\n",
    "\n",
    "nmda_evts = nmda_evts['nmda_lower_bound_ms'].groupby([nmda_evts['Elec_dist_prc'], nmda_evts['Type']]).apply(np.array)\n",
    "na_evts = na_evts['na_lower_bound_ms'].groupby([na_evts['Elec_dist_prc'], na_evts['Type']]).apply(np.array)\n",
    "\n",
    "# convert back to dataframes\n",
    "nmda_evts = nmda_evts.to_frame()\n",
    "na_evts = na_evts.to_frame()\n"
   ]
  },
  {
   "cell_type": "markdown",
   "metadata": {},
   "source": [
    "### Calculate cross-correlations between NMDA spikes and action potentials"
   ]
  },
  {
   "cell_type": "code",
   "execution_count": 4,
   "metadata": {},
   "outputs": [],
   "source": [
    "# Convert spike times to integers\n",
    "intfunc = lambda x: np.sort(np.round(x * 10).astype(int))  # assuming 10 kHz sample rate\n",
    "spk_t = intfunc(spk_t)\n",
    "\n",
    "nmda_evts['nmda_lower_bound_ms'] = nmda_evts['nmda_lower_bound_ms'].apply(intfunc)"
   ]
  },
  {
   "cell_type": "code",
   "execution_count": 6,
   "metadata": {},
   "outputs": [],
   "source": [
    "# Calculate cross-correlation\n",
    "ccfunc = lambda x: ccptpt(x,spk_t,50,[-14, 14])\n",
    "nmda_evts['cc'] = nmda_evts['nmda_lower_bound_ms'].apply(ccfunc)"
   ]
  },
  {
   "cell_type": "code",
   "execution_count": 17,
   "metadata": {},
   "outputs": [],
   "source": [
    "# Calculate mean event rate for normalizing counts\n",
    "ratefunc = lambda x: (len(x)/(sim_step_num/50))*len(spk_t) # recording duration time in samples divided by bin size in samples\n",
    "                                                      # multipled by the number of action potentials\n",
    "nmda_evts['rate'] = nmda_evts['nmda_lower_bound_ms'].apply(ratefunc)"
   ]
  },
  {
   "cell_type": "code",
   "execution_count": 34,
   "metadata": {},
   "outputs": [],
   "source": [
    "#nmda_evts['norm_cc'] = nmda_evts.apply(lambda x: x['cc']['counts'], axis=1)\n",
    "nmda_evts['norm_cc'] = nmda_evts.apply(lambda x: (x['cc']['counts']-x['rate'])/x['rate'], axis=1)"
   ]
  },
  {
   "cell_type": "markdown",
   "metadata": {},
   "source": [
    "### Plot cross-correlations stratified by dendrite type and electrotonic"
   ]
  },
  {
   "cell_type": "code",
   "execution_count": 35,
   "metadata": {},
   "outputs": [
    {
     "data": {
      "image/png": "[encoded data removed]",
      "text/plain": [
       "<Figure size 432x288 with 1 Axes>"
      ]
     },
     "metadata": {
      "needs_background": "light"
     },
     "output_type": "display_data"
    }
   ],
   "source": [
    "nmda_apic = nmda_evts.iloc[nmda_evts.index.get_level_values('Type')=='apic']\n",
    "\n",
    "nmda_apic_cc = np.vstack(nmda_apic['norm_cc'])\n",
    "nmda_apic_cc\n",
    "fig, ax = plt.subplots()\n",
    "ax.imshow(nmda_apic_cc)\n",
    "plt.show()"
   ]
  },
  {
   "cell_type": "code",
   "execution_count": 33,
   "metadata": {},
   "outputs": [
    {
     "data": {
      "image/png": "[encoded data removed]",
      "text/plain": [
       "<Figure size 432x288 with 1 Axes>"
      ]
     },
     "metadata": {
      "needs_background": "light"
     },
     "output_type": "display_data"
    }
   ],
   "source": [
    "nmda_basal = nmda_evts.iloc[nmda_evts.index.get_level_values('Type')=='dend']\n",
    "\n",
    "nmda_basal_cc = np.vstack(nmda_basal['norm_cc'])\n",
    "nmda_basal_cc\n",
    "fig, ax = plt.subplots()\n",
    "ax.imshow(nmda_basal_cc)\n",
    "plt.show()"
   ]
  }
 ],
 "metadata": {
  "kernelspec": {
   "display_name": "Python 3.9.7 ('base')",
   "language": "python",
   "name": "python3"
  },
  "language_info": {
   "codemirror_mode": {
    "name": "ipython",
    "version": 3
   },
   "file_extension": ".py",
   "mimetype": "text/x-python",
   "name": "python",
   "nbconvert_exporter": "python",
   "pygments_lexer": "ipython3",
   "version": "3.9.7"
  },
  "orig_nbformat": 4,
  "vscode": {
   "interpreter": {
    "hash": "0a9186c0f8abefcfc2ef00a836546988abf01f629b4c742e0440d03042138943"
   }
  }
 },
 "nbformat": 4,
 "nbformat_minor": 2
}
